{
 "cells": [
  {
   "cell_type": "code",
   "execution_count": null,
   "metadata": {},
   "outputs": [],
   "source": [
    "# Ideas"
   ]
  },
  {
   "cell_type": "markdown",
   "metadata": {},
   "source": [
    "## Menu\n",
    "\n",
    "    a) add tracker\n",
    "    d) delete tracker\n",
    "    e) edit tracker history\n",
    "    l) list trackers\n",
    "    r) record completion\n",
    "    s) show tracker info\n",
    "    c) clear screen\n",
    "    q) quit\n",
    "\n",
    "* track\n",
    "    * F1) toggle menu\n",
    "    * F2) about \n",
    "    * F3) check for updates\n",
    "    * F4) help\n",
    "    * ^q) quit\n",
    "\n",
    "* edit\n",
    "    * n) add new tracker\n",
    "    * c) add completion\n",
    "    * d) delete tracker\n",
    "    * e) edit completions\n",
    "    * r) rename tracker\n",
    "* view\n",
    "    * l) list all trackers\n",
    "    * s) show tracker details"
   ]
  },
  {
   "cell_type": "markdown",
   "metadata": {},
   "source": [
    "## List Trackers\n",
    "\n",
    "```\n",
    "  tag    next      last       tracker    ⏺ ○\n",
    "   a   24-08-12  24-08-01   Fill Bird Feeders\n",
    "```"
   ]
  }
 ],
 "metadata": {
  "kernelspec": {
   "display_name": "base",
   "language": "python",
   "name": "python3"
  },
  "language_info": {
   "codemirror_mode": {
    "name": "ipython",
    "version": 3
   },
   "file_extension": ".py",
   "mimetype": "text/x-python",
   "name": "python",
   "nbconvert_exporter": "python",
   "pygments_lexer": "ipython3",
   "version": "3.12.4"
  }
 },
 "nbformat": 4,
 "nbformat_minor": 2
}
