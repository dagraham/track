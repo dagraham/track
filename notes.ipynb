{
 "cells": [
  {
   "cell_type": "code",
   "execution_count": null,
   "metadata": {},
   "outputs": [],
   "source": [
    "# Ideas"
   ]
  },
  {
   "cell_type": "markdown",
   "metadata": {},
   "source": [
    "## Menu\n",
    "\n",
    "    a) add tracker\n",
    "    d) delete tracker\n",
    "    e) edit tracker history\n",
    "    l) list trackers\n",
    "    r) record completion\n",
    "    s) show tracker info\n",
    "    c) clear screen\n",
    "    q) quit\n",
    "\n",
    "* track\n",
    "    * F1) toggle menu\n",
    "    * F2) about \n",
    "    * F3) check for updates\n",
    "    * F4) help\n",
    "    * ^q) quit\n",
    "\n",
    "* edit\n",
    "    * n) add new tracker\n",
    "    * c) add completion\n",
    "    * d) delete tracker\n",
    "    * e) edit completions\n",
    "    * r) rename tracker\n",
    "* view\n",
    "    * l) list all trackers\n",
    "    * s) show tracker details"
   ]
  }
 ],
 "metadata": {
  "language_info": {
   "name": "python"
  }
 },
 "nbformat": 4,
 "nbformat_minor": 2
}
