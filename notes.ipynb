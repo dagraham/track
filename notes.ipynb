{
 "cells": [
  {
   "cell_type": "code",
   "execution_count": null,
   "metadata": {},
   "outputs": [],
   "source": [
    "# Ideas"
   ]
  },
  {
   "cell_type": "markdown",
   "metadata": {},
   "source": [
    "## Menu\n",
    "\n",
    "    a) add tracker\n",
    "    d) delete tracker\n",
    "    e) edit tracker history\n",
    "    l) list trackers\n",
    "    r) record completion\n",
    "    s) show tracker info\n",
    "    c) clear screen\n",
    "    q) quit\n",
    "\n",
    "* track\n",
    "    * F1) toggle menu\n",
    "    * F2) about \n",
    "    * F3) check for updates\n",
    "    * F4) help\n",
    "    * ^q) quit\n",
    "\n",
    "* edit\n",
    "    * n) add new tracker\n",
    "    * c) add completion\n",
    "    * d) delete tracker\n",
    "    * e) edit completions\n",
    "    * r) rename tracker\n",
    "* view\n",
    "    * l) list all trackers\n",
    "    * s) show tracker details"
   ]
  },
  {
   "cell_type": "raw",
   "metadata": {
    "vscode": {
     "languageId": "raw"
    }
   },
   "source": [
    "Chebyshev's Inequality Using MAD\n",
    "The proportion of observations that lie with +/- k*MAD >= 1 - 1/k**2"
   ]
  },
  {
   "cell_type": "markdown",
   "metadata": {},
   "source": [
    "## New tracker with option for frequency\n",
    "\n",
    "- split entry on , into parts\n",
    "- name = parts[0] if parts else None, \n",
    "- completed = parts[1] if len(parts) > 1 else None\n",
    "- interval = parts[2] if len(parts) > 2 else None \n",
    "- len parts > 2: interval = parts[2]\n",
    "- default dt_freq is None\n",
    "- if dt_freq is not None:\n",
    "    - split dt_freq on , into dt and freq\n",
    "\n",
    "- len(history) < 2 and frequency is not None: set interval = frequency and spread = 0m\n"
   ]
  },
  {
   "cell_type": "code",
   "execution_count": 4,
   "metadata": {},
   "outputs": [
    {
     "name": "stdout",
     "output_type": "stream",
     "text": [
      "'', 'None', 'None'\n",
      "'name only', 'None', 'None'\n",
      "'name and date', 'tue 4p', 'None'\n",
      "'name date and interval', 'tue 4p', '+7d12h'\n"
     ]
    }
   ],
   "source": [
    "string_0 = \"\"\n",
    "string_1 = \"name only\"\n",
    "string_2 = \"name and date, tue 4p\"\n",
    "string_3 = \"name date and interval, tue 4p, +7d12h\"\n",
    "for s in [string_0, string_1, string_2, string_3]:\n",
    "    parts = [x.strip() for x in s.split(\",\")]\n",
    "    name = parts[0] if parts else None\n",
    "    date = parts[1] if len(parts) > 1 else None\n",
    "    interval = parts[2] if len(parts) > 2 else None\n",
    "    print(f\"'{name}', '{date}', '{interval}'\")\n"
   ]
  }
 ],
 "metadata": {
  "kernelspec": {
   "display_name": "base",
   "language": "python",
   "name": "python3"
  },
  "language_info": {
   "codemirror_mode": {
    "name": "ipython",
    "version": 3
   },
   "file_extension": ".py",
   "mimetype": "text/x-python",
   "name": "python",
   "nbconvert_exporter": "python",
   "pygments_lexer": "ipython3",
   "version": "undefined.undefined.undefined"
  }
 },
 "nbformat": 4,
 "nbformat_minor": 2
}
